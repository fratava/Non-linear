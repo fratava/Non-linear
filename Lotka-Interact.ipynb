{
 "cells": [
  {
   "cell_type": "markdown",
   "metadata": {},
   "source": [
    "# Lotka-Volterra model"
   ]
  },
  {
   "cell_type": "code",
   "execution_count": 6,
   "metadata": {
    "collapsed": false
   },
   "outputs": [
    {
     "data": {
      "text/html": [],
      "text/plain": [
       "Interact.Slider{Float64}(Signal{Float64}(0.5, nactions=0),\"α\",0.5,0.0:0.1:1.0,true)"
      ]
     },
     "metadata": {},
     "output_type": "display_data"
    },
    {
     "data": {
      "text/html": [],
      "text/plain": [
       "Interact.Slider{Float64}(Signal{Float64}(0.5, nactions=0),\"β\",0.5,0.0:0.1:1.0,true)"
      ]
     },
     "metadata": {},
     "output_type": "display_data"
    },
    {
     "data": {
      "text/html": [],
      "text/plain": [
       "Interact.Slider{Float64}(Signal{Float64}(0.5, nactions=0),\"σ\",0.5,0.0:0.1:1.0,true)"
      ]
     },
     "metadata": {},
     "output_type": "display_data"
    },
    {
     "data": {
      "text/html": [],
      "text/plain": [
       "Interact.Slider{Float64}(Signal{Float64}(0.5, nactions=0),\"γ\",0.5,0.0:0.1:1.0,true)"
      ]
     },
     "metadata": {},
     "output_type": "display_data"
    },
    {
     "data": {
      "text/html": [],
      "text/plain": [
       "Interact.Slider{Float64}(Signal{Float64}(2.5, nactions=0),\"x0\",2.5,0.0:0.1:5.0,true)"
      ]
     },
     "metadata": {},
     "output_type": "display_data"
    },
    {
     "data": {
      "text/html": [],
      "text/plain": [
       "Interact.Slider{Float64}(Signal{Float64}(2.5, nactions=0),\"y0\",2.5,0.0:0.1:5.0,true)"
      ]
     },
     "metadata": {},
     "output_type": "display_data"
    },
    {
     "name": "stderr",
     "output_type": "stream",
     "text": [
      "WARNING: [a] concatenation is deprecated; use collect(a) instead\n"
     ]
    },
    {
     "data": {
      "image/png": "[encoded data removed]",
      "text/plain": [
       "PyPlot.Figure(PyObject <matplotlib.figure.Figure object at 0x7f771af7ba90>)"
      ]
     },
     "execution_count": 6,
     "metadata": {
      "comm_id": "ee57e4c2-95d0-4d59-a50b-e76a006b06c2",
      "reactive": true
     },
     "output_type": "execute_result"
    },
    {
     "name": "stderr",
     "output_type": "stream",
     "text": [
      " in depwarn at deprecated.jl:73\n",
      " in oldstyle_vcat_warning at ./abstractarray.jl:29\n",
      " in anonymous at In[6]:24\n",
      " in withfig at /home/fratava/.julia/v0.4/PyPlot/src/PyPlot.jl:639\n",
      " in anonymous at In[6]:9\n",
      " in include_string at loading.jl:266\n",
      " in execute_request_0x535c5df2 at /home/fratava/.julia/v0.4/IJulia/src/execute_request.jl:177\n",
      " in eventloop at /home/fratava/.julia/v0.4/IJulia/src/IJulia.jl:141\n",
      " in anonymous at task.jl:447\n",
      "while loading In[6], in expression starting on line 9\n"
     ]
    }
   ],
   "source": [
    "using Interact\n",
    "#using Gadfly\n",
    "using ODE\n",
    "using PyPlot\n",
    "#using DataFrames\n",
    "\n",
    "\n",
    "f = figure()\n",
    "@manipulate for α=0:0.1:1.0,β=0:0.1:1.0,σ=0:0.1:1.0,γ=0:0.1:1.0,x0=0:0.1:5.0,y0=0:0.1:5.0; withfig(f) do \n",
    "    \n",
    "    #α=0.1\n",
    "    #β=0.1\n",
    "    #σ=0.1\n",
    "    #γ=0.1   \n",
    "    \n",
    "    \n",
    "    function f(t,y)   \n",
    "        ydot=similar(y)    \n",
    "        ydot[1]=y[1]*(α-β*y[2]) \n",
    "        ydot[2]=-y[2]*(γ-σ*y[1])    \n",
    "        ydot\n",
    "    end\n",
    "\n",
    "    t=[0:0.1:500]\n",
    "    n=length(t)\n",
    "    y0=[x0,y0]\n",
    "    t,y=ODE.ode23s(f,y0,t)\n",
    "    y1=[a[1] for a in y]\n",
    "    y2=[a[2] for a in y]\n",
    "    t=t[:,1]                 \n",
    "    \n",
    "    PyPlot.plot(y1,y2,\"b-\")\n",
    "    #PyPlot.plot(t,y1,\"g-\",t,y2,\"r-\")    \n",
    "    #Gadfly.plot(x=y1,y=y2,Geom.point,Guide.Title(\"Grafica de x vs y\"),Theme(default_color=color(\"red\")))\n",
    "    #Gadfly.plot(x=t,y=y2,Geom.line,Guide.xlabel(\"t\"),Guide.ylabel(\"x\"),Guide.Title(\"Grafica de x vs t\"),Theme(default_color=color(\"green\"))) \n",
    "    #Gadfly.plot(x=t,y=y2,Geom.line,Guide.xlabel(\"t\"),Guide.ylabel(\"y\"),Guide.Title(\"Grafica de y vs t\"),Theme(default_color=color(\"orange\")))\n",
    "    #PyPlot.show()\n",
    "    \n",
    "    #figure(0)\n",
    "\n",
    "\n",
    "    #subplot(211)\n",
    "    #PyPlot.plot(y1,y2,\"b-\")\n",
    "    #title(\"xt vs t\")\n",
    "    #xlabel(L\"$t$\")\n",
    "    #ylabel(L\"$x_t$\")\n",
    "    #ylim(0,1)\n",
    "    #xlim(0,length(I))\n",
    "    #legend([\"r=$r\"])\n",
    "    #legend([\"x0=$x0\"])\n",
    "    #grid()\n",
    "\n",
    "    #subplot(212)\n",
    "    #PyPlot.plot(t,y1,\"g-\",t,y2,\"b-\")\n",
    "    #suptitle(\"Combinado\")\n",
    "    #title(L\"$Cobweb$\")\n",
    "    #xlabel(L\"$x_k$\")\n",
    "    #ylabel(L\"$x_k+1$\")\n",
    "    #ylim(0,1.0)\n",
    "    #legend([\"r=$r\"])\n",
    "    #legend([\"x0=$x0\"])\n",
    "    #grid()\n",
    "\n",
    "    #savefig(\"Combinado.pdf\",dpi=100,format=\"PDF\")\n",
    "\n",
    "    #show()\n",
    "    \n",
    "    \n",
    "        end   \n",
    "end"
   ]
  },
  {
   "cell_type": "code",
   "execution_count": null,
   "metadata": {
    "collapsed": true
   },
   "outputs": [],
   "source": []
  }
 ],
 "metadata": {
  "kernelspec": {
   "display_name": "Julia 0.4.2",
   "language": "julia",
   "name": "julia-0.4"
  },
  "language_info": {
   "file_extension": ".jl",
   "mimetype": "application/julia",
   "name": "julia",
   "version": "0.4.2"
  }
 },
 "nbformat": 4,
 "nbformat_minor": 0
}
